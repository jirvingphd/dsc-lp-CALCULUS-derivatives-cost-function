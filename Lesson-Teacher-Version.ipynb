{
 "cells": [
  {
   "cell_type": "markdown",
   "metadata": {
    "slideshow": {
     "slide_type": "slide"
    }
   },
   "source": [
    "# Derivatives"
   ]
  },
  {
   "cell_type": "markdown",
   "metadata": {
    "slideshow": {
     "slide_type": "slide"
    }
   },
   "source": [
    "## Motivation: \n",
    "\n",
    "Imagine we are tracking the distance a jogger runs. We track the distance ran by the jogger and find: \n",
    "\n",
    "<img src=\"distance_traveled_by_runnner.png\" width=500>\n",
    "\n",
    "What if we want to know what the runner's speed was 30 minutes into her run?  \n",
    "\n",
    "> The runner's speed at 30 minutes is the instantaneous rate of change of the runner's distance at t = 30 minutes."
   ]
  },
  {
   "cell_type": "markdown",
   "metadata": {
    "slideshow": {
     "slide_type": "slide"
    }
   },
   "source": [
    "## What is the derivative of a function? \n",
    "\n",
    "The derivative of a function at a point x is the instantaneous rate of change of the function at that point. \n",
    "\n",
    "The value of the derivative function at point x is the slope of the line tangent to the function at point x. \n",
    "\n",
    "<img src=\"tangential_line1.png\" width=500>\n"
   ]
  },
  {
   "cell_type": "markdown",
   "metadata": {
    "slideshow": {
     "slide_type": "notes"
    }
   },
   "source": [
    "Note to instructors: \n",
    "\n",
    "In this image, $f(x) = 3x^2$. \n",
    "\n",
    "> At x=2, the derivative of $f(x)$ is equal to 12. \n",
    "\n",
    "> The slope of the line tangent to $f(x) = 3x^2$ at x = 2 is equal to the derivative of $f(x)$, $f'(x)$ evaluated at x. "
   ]
  },
  {
   "cell_type": "markdown",
   "metadata": {
    "slideshow": {
     "slide_type": "slide"
    }
   },
   "source": [
    "We can compute the value of the derivative of a function $f(x)$ at any value of $x$ using\n",
    "\n",
    "$$ f'(x) = \\displaystyle {\\lim_{ \\Delta x \\to0}} \\frac{f(x + \\Delta x) - f(x)}{\\Delta x} $$\n",
    "\n",
    "The quantity $\\dfrac{f(x + \\Delta x) - f(x)}{\\Delta x}$ is called the **difference quotient**. \n",
    "\n",
    "The **difference quotient** allows us to compute the slope of the **secant** line passing through the points $(x, f(x))$ and $(x+\\Delta x, f(x + \\Delta x)$. \n",
    "\n",
    "Here we show an example of the secant line passing through the points (2, 4) and (8, 64) for $f(x) = x^2$. \n",
    "\n",
    "\n",
    "<img src=\"secant_line.png\" width= 800>\n",
    "\n",
    "\n",
    "As $\\Delta x$ changes, the slope of the secant line changes. \n",
    "\n",
    "As $\\Delta x$ becomes infinitesimally small, we end up computing the slope of the line **_tangent_** to $f(x)$ at x, which is the derivative of $f(x)$, $f'(x)$ evaluated at x. "
   ]
  },
  {
   "cell_type": "markdown",
   "metadata": {
    "slideshow": {
     "slide_type": "slide"
    }
   },
   "source": [
    "Let's compute the derivative of $f(x) = 3x^2$ at x = 2 using \n",
    "\n",
    "$$ f'(x) = \\displaystyle {\\lim_{ \\Delta x \\to0}} \\frac{f(x + \\Delta x) - f(x)}{\\Delta x} $$\n",
    "\n",
    "and Python code. "
   ]
  },
  {
   "cell_type": "markdown",
   "metadata": {
    "slideshow": {
     "slide_type": "slide"
    }
   },
   "source": [
    "**First, define the function f(x) using code:**"
   ]
  },
  {
   "cell_type": "code",
   "execution_count": 1,
   "metadata": {
    "slideshow": {
     "slide_type": "notes"
    }
   },
   "outputs": [],
   "source": [
    "def f(x):\n",
    "    return 3*x**2"
   ]
  },
  {
   "cell_type": "markdown",
   "metadata": {
    "slideshow": {
     "slide_type": "slide"
    }
   },
   "source": [
    "**Then, write a function to compute the difference quotient for this function for any value of x and $\\Delta x$.**"
   ]
  },
  {
   "cell_type": "code",
   "execution_count": 2,
   "metadata": {
    "slideshow": {
     "slide_type": "notes"
    }
   },
   "outputs": [],
   "source": [
    "def difference_quotient(f, x_value, delta_x):\n",
    "    return (f(x_value + delta_x) - f(x_value))/delta_x"
   ]
  },
  {
   "cell_type": "markdown",
   "metadata": {},
   "source": [
    "**Evaluate the difference quotient at $x = 2$ for $\\Delta x = 0.1$**"
   ]
  },
  {
   "cell_type": "code",
   "execution_count": 3,
   "metadata": {
    "slideshow": {
     "slide_type": "notes"
    }
   },
   "outputs": [
    {
     "data": {
      "text/plain": [
       "12.300000000000004"
      ]
     },
     "execution_count": 3,
     "metadata": {},
     "output_type": "execute_result"
    }
   ],
   "source": [
    "difference_quotient(f, 2, 0.1)"
   ]
  },
  {
   "cell_type": "markdown",
   "metadata": {
    "slideshow": {
     "slide_type": "slide"
    }
   },
   "source": [
    "**Compute the difference quotient for different values of $\\Delta x$ given by  `delta_xs = [1, 0.5, 0.1, 0.05, 0.01, 0.001, 0.0001]` at $x = 2$ for this function ($f(x) = 3x^2$).**\n",
    "\n",
    "**As $\\Delta x$ becomes smaller, what value is the difference quotient converging to?**"
   ]
  },
  {
   "cell_type": "code",
   "execution_count": 4,
   "metadata": {
    "slideshow": {
     "slide_type": "notes"
    }
   },
   "outputs": [
    {
     "name": "stdout",
     "output_type": "stream",
     "text": [
      "dx = 1: df/dx =  15.0\n",
      "dx = 0.5: df/dx =  13.5\n",
      "dx = 0.1: df/dx =  12.300000000000004\n",
      "dx = 0.05: df/dx =  12.149999999999963\n",
      "dx = 0.01: df/dx =  12.029999999999674\n",
      "dx = 0.001: df/dx =  12.002999999999986\n",
      "dx = 0.0001: df/dx =  12.000300000032382\n"
     ]
    }
   ],
   "source": [
    "for dx in [1, 0.5, 0.1, 0.05, 0.01, 0.001, 0.0001]:\n",
    "    print(\"dx = {}: df/dx = \".format(dx), difference_quotient(f, 2, dx))"
   ]
  },
  {
   "cell_type": "markdown",
   "metadata": {
    "slideshow": {
     "slide_type": "notes"
    }
   },
   "source": [
    "> The difference quotient is converging to 12, the instantaneous rate of change of f(x) at x = 2. "
   ]
  },
  {
   "cell_type": "markdown",
   "metadata": {
    "slideshow": {
     "slide_type": "slide"
    }
   },
   "source": [
    "**Using rules for the derivatives, what is the derivative of $f(x)$, $f'(x)$, equal to?**"
   ]
  },
  {
   "cell_type": "markdown",
   "metadata": {
    "slideshow": {
     "slide_type": "notes"
    }
   },
   "source": [
    "> We can take the derivative with respect to x of each different term in $f(x)$ and sum.  This leads to: \n",
    ">> $f(x) = 3x^2 $ $\\rightarrow f'(x) = 6x$ "
   ]
  },
  {
   "cell_type": "markdown",
   "metadata": {
    "slideshow": {
     "slide_type": "notes"
    }
   },
   "source": [
    "**Note to instructors:**\n",
    "\n",
    "_Rules for derivatives_ : \n",
    "\n",
    "\n",
    "$d/dx[cf(x)] = cf'(x)$\n",
    "\n",
    "$d/dx[ax^n] = nax^{n - 1}$\n",
    "<br/>\n",
    "\n",
    "$d/dx[sin(x)] = cos(x)$\n",
    "<br/>\n",
    "\n",
    "$d/dx[e^x] = e^x$\n",
    "<br/>\n",
    "\n",
    "$d/dx[f(x)g(x)] = f(x)g'(x) + g(x)f'(x)$\n",
    "<br/>\n",
    "\n",
    "$d/dx[f(x) / (g(x)] = g(x)f'(x) - f(x)g'(x)) / (g(x))^2$\n",
    "\n",
    "$\\Delta y / \\Delta x$\n",
    "\n",
    "$df/dx \\equiv lim_{\\Delta x\\to 0}(f(x + \\Delta x) - f(x)) / {\\Delta x}$\n",
    "\n",
    "$d/dx[f(g(x))] = f'(g(x))g'(x)$\n",
    "\n",
    "$d/dx[f(x) + g(x)] = f'(x) + g'(x)$"
   ]
  },
  {
   "cell_type": "markdown",
   "metadata": {
    "slideshow": {
     "slide_type": "slide"
    }
   },
   "source": [
    "**What is the value of $f'(x)$ at x = 2 and how does it compare to the result you obtained with Python?**"
   ]
  },
  {
   "cell_type": "code",
   "execution_count": 5,
   "metadata": {
    "slideshow": {
     "slide_type": "notes"
    }
   },
   "outputs": [
    {
     "data": {
      "text/plain": [
       "12"
      ]
     },
     "execution_count": 5,
     "metadata": {},
     "output_type": "execute_result"
    }
   ],
   "source": [
    "# f'(x) = 6x \n",
    "# x = 2 \n",
    "\n",
    "6*2"
   ]
  },
  {
   "cell_type": "markdown",
   "metadata": {
    "slideshow": {
     "slide_type": "notes"
    }
   },
   "source": [
    "> We obtained the exact value of the derivative, 12, which is the value our computation converged to. "
   ]
  },
  {
   "cell_type": "markdown",
   "metadata": {
    "slideshow": {
     "slide_type": "slide"
    }
   },
   "source": [
    "Let's repeat this process, this time with a slightly more complicated function. \n",
    "\n",
    "**Compute the derivative of $f(x) = 5(x-2)^2$ at x = 3.**"
   ]
  },
  {
   "cell_type": "markdown",
   "metadata": {
    "slideshow": {
     "slide_type": "slide"
    }
   },
   "source": [
    "**Use the function you wrote previously to compute the rate of change of the function at $x = 3$ given $\\Delta x = 0.1$.**"
   ]
  },
  {
   "cell_type": "code",
   "execution_count": 6,
   "metadata": {
    "slideshow": {
     "slide_type": "notes"
    }
   },
   "outputs": [],
   "source": [
    "def f(x):\n",
    "    return 5*(x-2)**2"
   ]
  },
  {
   "cell_type": "code",
   "execution_count": 7,
   "metadata": {
    "slideshow": {
     "slide_type": "notes"
    }
   },
   "outputs": [],
   "source": [
    "def df_dx(f, x_value, delta_x):\n",
    "    return (f(x_value + delta_x) - f(x_value))/delta_x"
   ]
  },
  {
   "cell_type": "code",
   "execution_count": 8,
   "metadata": {
    "slideshow": {
     "slide_type": "notes"
    }
   },
   "outputs": [
    {
     "data": {
      "text/plain": [
       "10.500000000000007"
      ]
     },
     "execution_count": 8,
     "metadata": {},
     "output_type": "execute_result"
    }
   ],
   "source": [
    "df_dx(f, 3, 0.1)"
   ]
  },
  {
   "cell_type": "markdown",
   "metadata": {
    "slideshow": {
     "slide_type": "slide"
    }
   },
   "source": [
    "**Compute the rate of change for different values of $\\Delta x$ given by  `delta_xs = [1, 0.5, 0.1, 0.05, 0.01, 0.001, 0.0001]`.** \n",
    "\n",
    "**As $\\Delta x$ becomes smaller, what value is the rate of change converging to?**"
   ]
  },
  {
   "cell_type": "code",
   "execution_count": 9,
   "metadata": {
    "slideshow": {
     "slide_type": "notes"
    }
   },
   "outputs": [
    {
     "name": "stdout",
     "output_type": "stream",
     "text": [
      "dx = 1: df/dx =  15.0\n",
      "dx = 0.5: df/dx =  12.5\n",
      "dx = 0.1: df/dx =  10.500000000000007\n",
      "dx = 0.05: df/dx =  10.24999999999995\n",
      "dx = 0.01: df/dx =  10.04999999999976\n",
      "dx = 0.001: df/dx =  10.00499999999871\n",
      "dx = 0.0001: df/dx =  10.000500000018064\n"
     ]
    }
   ],
   "source": [
    "for dx in [1, 0.5, 0.1, 0.05, 0.01, 0.001, 0.0001]:\n",
    "    print(\"dx = {}: df/dx = \".format(dx), df_dx(f, 3, dx))"
   ]
  },
  {
   "cell_type": "markdown",
   "metadata": {
    "slideshow": {
     "slide_type": "notes"
    }
   },
   "source": [
    "> The rate of change is converging to 10."
   ]
  },
  {
   "cell_type": "markdown",
   "metadata": {
    "slideshow": {
     "slide_type": "slide"
    }
   },
   "source": [
    "**Using rules for the derivatives, what is the derivative of $f(x)$, $f'(x)$, equal to?**"
   ]
  },
  {
   "cell_type": "markdown",
   "metadata": {
    "slideshow": {
     "slide_type": "notes"
    }
   },
   "source": [
    "> $f(x) =  5(x-2)^2 \\rightarrow f'(x) =  10(x-2)$\n",
    "\n",
    "> We used the chain rule to compute this derivative. "
   ]
  },
  {
   "cell_type": "markdown",
   "metadata": {
    "slideshow": {
     "slide_type": "slide"
    }
   },
   "source": [
    "**What is the value of $f'(x)$ at x = 3 and how does it compare to the result you obtained with Python?**"
   ]
  },
  {
   "cell_type": "code",
   "execution_count": 10,
   "metadata": {
    "slideshow": {
     "slide_type": "notes"
    }
   },
   "outputs": [
    {
     "data": {
      "text/plain": [
       "10"
      ]
     },
     "execution_count": 10,
     "metadata": {},
     "output_type": "execute_result"
    }
   ],
   "source": [
    "10*(3-2)"
   ]
  },
  {
   "cell_type": "markdown",
   "metadata": {
    "slideshow": {
     "slide_type": "notes"
    }
   },
   "source": [
    "> We obtained the exact value of the derivative, 10, which is the value our computation converged to. "
   ]
  },
  {
   "cell_type": "markdown",
   "metadata": {
    "slideshow": {
     "slide_type": "slide"
    }
   },
   "source": [
    "**Plot the function  $f(x) = 5(x-2)^2$ over x ranging from -5 to 5.**\n",
    "\n",
    "**What is the minimum value of this function? At what value of x does $f(x)$ reach its maximum?**"
   ]
  },
  {
   "cell_type": "code",
   "execution_count": 11,
   "metadata": {
    "slideshow": {
     "slide_type": "notes"
    }
   },
   "outputs": [
    {
     "data": {
      "text/plain": [
       "[<matplotlib.lines.Line2D at 0x11fe907b8>]"
      ]
     },
     "execution_count": 11,
     "metadata": {},
     "output_type": "execute_result"
    },
    {
     "data": {
      "image/png": "[encoded data removed]",
      "text/plain": [
       "<Figure size 432x288 with 1 Axes>"
      ]
     },
     "metadata": {
      "needs_background": "light"
     },
     "output_type": "display_data"
    }
   ],
   "source": [
    "import numpy as np \n",
    "\n",
    "import matplotlib.pyplot as plt \n",
    "%matplotlib inline \n",
    "\n",
    "x = np.linspace(-5, 5, 100)\n",
    "plt.plot(x, f(x))"
   ]
  },
  {
   "cell_type": "markdown",
   "metadata": {
    "slideshow": {
     "slide_type": "notes"
    }
   },
   "source": [
    "> We know that $f'(x) = 10(x-2)$. \n",
    "\n",
    "> We know that $f(x)$ reaches an optimum, in this case, a minimum, at the x value where $f'(x) = 0$. \n",
    "\n",
    "> So we need to solve for this value of $x$ as follows: \n",
    "\n",
    ">> 10(x-2) = 0\n",
    "\n",
    ">> (x-2) = 0\n",
    "\n",
    ">> x = 2 \n",
    "\n",
    ">> This is where $f(x)$ reaches its minimum."
   ]
  },
  {
   "cell_type": "markdown",
   "metadata": {
    "slideshow": {
     "slide_type": "slide"
    }
   },
   "source": [
    "In the image below, we show you two functions plotted against x: one has a minimum at $x = 2$ and the other one has a maximum point at $x = 2$.   \n",
    "\n",
    "<img src=\"concave_up_and_down.png\">\n"
   ]
  },
  {
   "cell_type": "markdown",
   "metadata": {
    "slideshow": {
     "slide_type": "slide"
    }
   },
   "source": [
    "**What happens to the slopes of the lines tangential to $f(x)$ for x values before and after $x = 2$ in both cases?**"
   ]
  },
  {
   "cell_type": "markdown",
   "metadata": {
    "slideshow": {
     "slide_type": "notes"
    }
   },
   "source": [
    "For the function on the left hand side of the image, which has a minimum at $x = 2$, notice that for $x \\lt 2$, the slopes of the lines tangential to $f(x)$ have a negative slope, and that for $x \\gt 2$, the slopes are positive.\n",
    "\n",
    "Moreover, for $x \\lt 2$, as x approaches $x = 2$, the line tangential to $f(x)$ slowly becomes more horizontal, meaning that the slope of the line tangential to $f(x)$ approaches zero. After $x=2$, that is, for $x \\gt 2$, the slopes of the lines tangential to $f(x)$ become positive and increase with larger x. \n",
    "\n",
    "- - -\n",
    "\n",
    "For the function on the right hand side of the image, which has a maximum at $x = 2$, the opposite is true: for $x \\lt 2$, the slope of the lines tangential to $f(x)$ have a positive slope, and for $x \\gt 2$, the slopes are negative.\n",
    "\n",
    "Moreover, for $x \\lt 2$, as x approaches $x = 2$, the line tangential to $f(x)$ slowly becomes more horizontal, meaning that the slope of the line tangential to $f(x)$ approaches zero. After $x=2$, that is, for $x \\gt 2$, the slopes of the lines tangential to $f(x)$ become negative and decrease with larger x. \n",
    "\n",
    "_Note to instructors:_\n",
    "\n",
    "- If you feel it's appropriate, you may mention concavity of functions and second derivatives here: if the function is concave up, you're finding a minimum, if it's concave down, you're finding a maximum. "
   ]
  },
  {
   "cell_type": "markdown",
   "metadata": {
    "slideshow": {
     "slide_type": "slide"
    }
   },
   "source": [
    "# Cost function for Linear Regression\n",
    "\n",
    "## Finding the line of best fit \n",
    "\n",
    "Say we have an independent variable $x$ and a dependent variable $y$, and we want to find the best line to predict these values. \n",
    "\n",
    "Here's our data: "
   ]
  },
  {
   "cell_type": "code",
   "execution_count": 12,
   "metadata": {
    "slideshow": {
     "slide_type": "slide"
    }
   },
   "outputs": [
    {
     "data": {
      "image/png": "[encoded data removed]",
      "text/plain": [
       "<Figure size 576x432 with 1 Axes>"
      ]
     },
     "metadata": {
      "needs_background": "light"
     },
     "output_type": "display_data"
    }
   ],
   "source": [
    "np.random.seed(27)\n",
    "\n",
    "x = np.random.rand(30,1).reshape(30)\n",
    "y_randterm = np.random.normal(0,3,30)\n",
    "y = 3 + 50 * x + y_randterm\n",
    "\n",
    "plt.figure(figsize=(8,6))\n",
    "plt.plot(x, y, '.b')\n",
    "plt.xlabel(\"x\", fontsize=14)\n",
    "plt.ylabel(\"y\", fontsize=14);"
   ]
  },
  {
   "cell_type": "markdown",
   "metadata": {
    "slideshow": {
     "slide_type": "slide"
    }
   },
   "source": [
    "You want to fit the best line to this data.\n",
    "\n",
    "Remember that a line is defined by: $ y = mx + b $, where $m$ is the slope of the line and $b$ is the intercept of the line with the y-axis. \n",
    "\n",
    "### How do we evaluate how good a line fit to the data is?\n"
   ]
  },
  {
   "cell_type": "markdown",
   "metadata": {
    "slideshow": {
     "slide_type": "notes"
    }
   },
   "source": [
    "Note to instructors: \n",
    "\n",
    "> Pause here to discuss.\n",
    "\n",
    "> The difference between an actual y value at a given x and the value predicted by the line for that x is the error. \n",
    "\n",
    "> We square the error because otherwise positive and negative differences cancel out.\n",
    "\n",
    "> We take the mean of the squared errors to gage how well the predicted line fits all of the data points. "
   ]
  },
  {
   "cell_type": "markdown",
   "metadata": {
    "slideshow": {
     "slide_type": "slide"
    }
   },
   "source": [
    "The mean squared error is given by: \n",
    "<p style='text-align:center;font-size:20px'>$ MSE = \\frac{1}{n}\\sum_{i=1}^n (y_i - \\hat y_i)^2 $</p>\n",
    "\n",
    "where $y_i$ is the value of y for the ith data point $x_i$, $\\hat y_i$ is the estimated value of $y_i$, and n is the total number of data points. \n",
    "\n",
    "For linear models, we estimate each value of y as $ \\hat y_i = m x_i + b $, where $m$ is the slope of the line and $b$ is the intercept of the line with the y-axis.\n",
    "\n",
    "Thus, the mean squared error is given by: \n",
    "\n",
    "<p style='text-align:center;font-size:20px'>$ MSE = \\frac{1}{n}\\sum_{i=1}^n (y_i - (m x_i + b))^2 $</p> \n",
    "\n",
    "**Finding the best line to fit the data means finding the values of the slope $m$ and intercept $b$ that minimize the mean squared error.**\n",
    "\n",
    "### Cost functions\n",
    "\n",
    "In machine learning, the cost function is a function that measures the performance of a model for the given data. \n",
    "\n",
    "In the case of linear regression, the mean squared error is the cost function. It quantifies the error between predicted values and expected values and presents it in the form of a single real number.\n",
    "\n",
    "When fitting models to data, we seek to minimize the value of the cost function. "
   ]
  },
  {
   "cell_type": "markdown",
   "metadata": {
    "slideshow": {
     "slide_type": "notes"
    }
   },
   "source": [
    "Note to instructors: \n",
    "\n",
    "### What about using Ordinary Least Squares? \n",
    "\n",
    "We could use ordinary least squares to estimate the unknown parameters $m$ and $b$ in a linear regression model. We would find the parameters $m$ and $b$ that minimize the MSE using linear algebra by solving a system of linear equations: \n",
    "\n",
    "$$ \\beta = (X^T X)^{-1} X^T y $$\n",
    "\n",
    "where $\\beta = \\begin{pmatrix}\n",
    "b \\\\ \n",
    "m\n",
    "\\end{pmatrix}$.\n",
    "\n",
    "Pros of using OLS:\n",
    "* We obtain a closed form solution; it gives us the right answer. \n",
    "\n",
    "Cons of using OLS: \n",
    "* As the number of data points increase, it becomes more and more computationally expensive to solve the system of linear equations for the parameters. "
   ]
  },
  {
   "cell_type": "markdown",
   "metadata": {
    "slideshow": {
     "slide_type": "slide"
    }
   },
   "source": [
    "### Back to our example! \n",
    "Let's guess values for the slope and y-intercept for a regression line to fit this data. Say  m = 30 and b = 2. \n",
    "\n",
    "**Plot the original data alongside the line with our guessed regression line.** Does it seem like a good fit to you? "
   ]
  },
  {
   "cell_type": "code",
   "execution_count": 13,
   "metadata": {
    "slideshow": {
     "slide_type": "notes"
    }
   },
   "outputs": [
    {
     "data": {
      "image/png": "[encoded data removed]",
      "text/plain": [
       "<Figure size 576x432 with 1 Axes>"
      ]
     },
     "metadata": {
      "needs_background": "light"
     },
     "output_type": "display_data"
    }
   ],
   "source": [
    "np.random.seed(27)\n",
    "\n",
    "x = np.random.rand(30,1).reshape(30)\n",
    "y_randterm = np.random.normal(0,3,30)\n",
    "y = 3 + 50 * x + y_randterm\n",
    "\n",
    "m, b = 30, 2\n",
    "y_guess = m*x + b\n",
    "\n",
    "plt.figure(figsize=(8,6))\n",
    "plt.plot(x, y, '.b')\n",
    "plt.plot(x, y_guess, color='red', linestyle='dashed')\n",
    "plt.xlabel(\"x\", fontsize=14)\n",
    "plt.ylabel(\"y\", fontsize=14);"
   ]
  },
  {
   "cell_type": "markdown",
   "metadata": {
    "slideshow": {
     "slide_type": "notes"
    }
   },
   "source": [
    "> This is not a good fit."
   ]
  },
  {
   "cell_type": "markdown",
   "metadata": {
    "slideshow": {
     "slide_type": "slide"
    }
   },
   "source": [
    "**Write a function to compute the mean squared error (MSE) between the data and a regression line with slope m and y-intercept b.** \n",
    "\n",
    "* The function should pass in the values for your independent and dependent variables, x and y, respectively, as well as the values for the slope (m) and intercept (b) of the line you're computing the MSE for. \n",
    "\n",
    "In the cell below, we give you starter code you can use in the function `mean_squared_error`. "
   ]
  },
  {
   "cell_type": "code",
   "execution_count": 14,
   "metadata": {
    "slideshow": {
     "slide_type": "slide"
    }
   },
   "outputs": [],
   "source": [
    "def errors(x, y, m, b):\n",
    "    y_from_line = m*x + b\n",
    "    return y - y_from_line\n",
    "\n",
    "def squared_errors(x, y, m, b):\n",
    "    return errors(x, y, m, b)**2 \n",
    "\n",
    "def mean_squared_error(x, y, m, b):\n",
    "    pass "
   ]
  },
  {
   "cell_type": "code",
   "execution_count": 15,
   "metadata": {
    "slideshow": {
     "slide_type": "notes"
    }
   },
   "outputs": [],
   "source": [
    "def errors(x, y, m, b):\n",
    "    y_from_line = m*x + b\n",
    "    return y - y_from_line\n",
    "\n",
    "def squared_errors(x, y, m, b):\n",
    "    return errors(x, y, m, b)**2 \n",
    "\n",
    "def mean_squared_error(x, y, m, b):\n",
    "    n = len(x)\n",
    "    return sum(squared_errors(x, y, m, b))/n"
   ]
  },
  {
   "cell_type": "markdown",
   "metadata": {
    "slideshow": {
     "slide_type": "slide"
    }
   },
   "source": [
    "**Evaluate the mean squared error for the line with $m = 30$ and $b = 2$ and the data.**"
   ]
  },
  {
   "cell_type": "code",
   "execution_count": 16,
   "metadata": {
    "slideshow": {
     "slide_type": "notes"
    }
   },
   "outputs": [
    {
     "data": {
      "text/plain": [
       "206.2529526269504"
      ]
     },
     "execution_count": 16,
     "metadata": {},
     "output_type": "execute_result"
    }
   ],
   "source": [
    "mean_squared_error(x, y, m=30, b=2)"
   ]
  },
  {
   "cell_type": "markdown",
   "metadata": {
    "slideshow": {
     "slide_type": "slide"
    }
   },
   "source": [
    "Now that we have the `mean_squared_error` function to evaluate how well a regression line fits the data, we can try out different regression lines and compute their MSEs. \n",
    "\n",
    "**Find the mean squared error for regression lines with slope values $m$ ranging from 20 to 60 while keeping the value of the intercept constant at $b = 2$.**"
   ]
  },
  {
   "cell_type": "code",
   "execution_count": 17,
   "metadata": {
    "slideshow": {
     "slide_type": "notes"
    }
   },
   "outputs": [],
   "source": [
    "MSEs = []\n",
    "for m in range(20, 61):\n",
    "    mse = mean_squared_error(x, y, m, b=2)\n",
    "    MSEs.append(mse)"
   ]
  },
  {
   "cell_type": "markdown",
   "metadata": {
    "slideshow": {
     "slide_type": "slide"
    }
   },
   "source": [
    "**Create a plot to show how the mean squared error changes as m changes from $m = 20$ to $m = 60$.** Use `plt.xticks(range(20, 61, 2))`. "
   ]
  },
  {
   "cell_type": "code",
   "execution_count": 23,
   "metadata": {
    "slideshow": {
     "slide_type": "notes"
    }
   },
   "outputs": [
    {
     "data": {
      "image/png": "[encoded data removed]",
      "text/plain": [
       "<Figure size 432x288 with 1 Axes>"
      ]
     },
     "metadata": {
      "needs_background": "light"
     },
     "output_type": "display_data"
    }
   ],
   "source": [
    "plt.plot(range(20, 61), MSEs)\n",
    "plt.xlabel('m')\n",
    "plt.ylabel('MSE')\n",
    "plt.xticks(range(20, 61, 2))\n",
    "plt.title('MSE with changes to slope for $b = 2$'); "
   ]
  },
  {
   "cell_type": "markdown",
   "metadata": {
    "slideshow": {
     "slide_type": "notes"
    }
   },
   "source": [
    "> We see that the mean squared error reaches its lowest value for $b = 2$ for slope values between m = 52 and m = 54. "
   ]
  },
  {
   "cell_type": "markdown",
   "metadata": {
    "slideshow": {
     "slide_type": "slide"
    }
   },
   "source": [
    "The curve that we just plotted is called the **cost curve**! It shows how the mean squared error of a line fitted to the data changes as we change the slope parameter while keeping the intercept constant. \n",
    "\n",
    "* We can create a similar cost curve for the case where we hold the slope value constant, change values for the intercept, and see how the mean squared error changes as the intercept changes. "
   ]
  },
  {
   "cell_type": "markdown",
   "metadata": {
    "slideshow": {
     "slide_type": "slide"
    }
   },
   "source": [
    "We held one variable, the y-intercept $b$, constant in order to experiment with the other, the slope $m$. \n",
    "\n",
    "Here is a quick look at what a cost curve for simple linear regression looks like as we change both the slope value $m$ and the y-intercept $b$. \n",
    "\n",
    "<img src=\"new_gradientdescent.png\" width=500>\n",
    "\n",
    "Recall that the cost function for linear regression is given by: \n",
    "\n",
    "<p style='text-align:center;font-size:20px'>$ MSE = \\dfrac{1}{n}\\sum_{i=1}^n (y_i - (m x_i + b))^2 $</p> "
   ]
  },
  {
   "cell_type": "markdown",
   "metadata": {
    "slideshow": {
     "slide_type": "slide"
    }
   },
   "source": [
    "In general, to find the line of best fit, we:\n",
    "\n",
    "1. Choose a regression line with a guess of values for $m$ and $b$. \n",
    "2. Calculate the mean squared error. \n",
    "3. Adjust $m$ and $b$, as these are the only parameters that can vary in a single-variable regression line. \n",
    "4. Recalculate the mean squared error with the adjusted values of $m$ and $b$. \n",
    "5. Repeat this process. \n",
    "6. The regression line with the smallest mean squared error is our best fit line. \n",
    "\n",
    "An iterative technique we use to adjust the values of the parameters $m$ and $b$ to minimize the mean squared error is called **gradient descent**. "
   ]
  }
 ],
 "metadata": {
  "celltoolbar": "Slideshow",
  "kernelspec": {
   "display_name": "Python [conda env:learn-env] *",
   "language": "python",
   "name": "conda-env-learn-env-py"
  },
  "language_info": {
   "codemirror_mode": {
    "name": "ipython",
    "version": 3
   },
   "file_extension": ".py",
   "mimetype": "text/x-python",
   "name": "python",
   "nbconvert_exporter": "python",
   "pygments_lexer": "ipython3",
   "version": "3.6.6"
  },
  "toc": {
   "base_numbering": 1,
   "nav_menu": {},
   "number_sections": true,
   "sideBar": true,
   "skip_h1_title": false,
   "title_cell": "Table of Contents",
   "title_sidebar": "Contents",
   "toc_cell": false,
   "toc_position": {},
   "toc_section_display": true,
   "toc_window_display": false
  }
 },
 "nbformat": 4,
 "nbformat_minor": 2
}
